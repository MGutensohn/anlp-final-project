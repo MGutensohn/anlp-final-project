{
 "cells": [
  {
   "cell_type": "code",
   "execution_count": 39,
   "metadata": {},
   "outputs": [],
   "source": [
    "from datetime import datetime\n",
    "from dateutil.parser import parse\n",
    "import pandas as pd\n",
    "import spacy, glob, os"
   ]
  },
  {
   "cell_type": "code",
   "execution_count": 43,
   "metadata": {},
   "outputs": [
    {
     "data": {
      "text/plain": [
       "('ner', <spacy.pipeline.pipes.EntityRecognizer at 0x111e1c048>)"
      ]
     },
     "execution_count": 43,
     "metadata": {},
     "output_type": "execute_result"
    }
   ],
   "source": [
    "nlp = spacy.load('en_core_web_sm', disable=['parser'])\n",
    "nlp.remove_pipe('ner')\n",
    "# nlp.remove_pipe('parser')"
   ]
  },
  {
   "cell_type": "code",
   "execution_count": 32,
   "metadata": {
    "scrolled": true
   },
   "outputs": [
    {
     "name": "stderr",
     "output_type": "stream",
     "text": [
      "/Users/mugdhab/anaconda3/lib/python3.7/site-packages/ipykernel_launcher.py:6: FutureWarning: from_csv is deprecated. Please use read_csv(...) instead. Note that some of the default arguments are different, so please refer to the documentation for from_csv when changing your function calls\n",
      "  \n",
      "/Users/mugdhab/anaconda3/lib/python3.7/site-packages/IPython/core/interactiveshell.py:3185: DtypeWarning: Columns (5) have mixed types. Specify dtype option on import or set low_memory=False.\n",
      "  if (yield from self.run_code(code, result)):\n"
     ]
    }
   ],
   "source": [
    "f = open('data/dataset.tsv', 'r')\n",
    "# docs = pd.DataFrame(f.read())\n",
    "\n",
    "df1 = pd.DataFrame.from_csv(f, sep='\\t')\n"
   ]
  },
  {
   "cell_type": "code",
   "execution_count": 33,
   "metadata": {},
   "outputs": [
    {
     "data": {
      "text/html": [
       "<div>\n",
       "<style scoped>\n",
       "    .dataframe tbody tr th:only-of-type {\n",
       "        vertical-align: middle;\n",
       "    }\n",
       "\n",
       "    .dataframe tbody tr th {\n",
       "        vertical-align: top;\n",
       "    }\n",
       "\n",
       "    .dataframe thead th {\n",
       "        text-align: right;\n",
       "    }\n",
       "</style>\n",
       "<table border=\"1\" class=\"dataframe\">\n",
       "  <thead>\n",
       "    <tr style=\"text-align: right;\">\n",
       "      <th></th>\n",
       "      <th>city</th>\n",
       "      <th>state</th>\n",
       "      <th>country</th>\n",
       "      <th>shape</th>\n",
       "      <th>duration (seconds)</th>\n",
       "      <th>duration (hours/min)</th>\n",
       "      <th>comments</th>\n",
       "      <th>date posted</th>\n",
       "      <th>latitude</th>\n",
       "      <th>longitude</th>\n",
       "      <th>sight_year</th>\n",
       "      <th>report_year</th>\n",
       "    </tr>\n",
       "    <tr>\n",
       "      <th>datetime</th>\n",
       "      <th></th>\n",
       "      <th></th>\n",
       "      <th></th>\n",
       "      <th></th>\n",
       "      <th></th>\n",
       "      <th></th>\n",
       "      <th></th>\n",
       "      <th></th>\n",
       "      <th></th>\n",
       "      <th></th>\n",
       "      <th></th>\n",
       "      <th></th>\n",
       "    </tr>\n",
       "  </thead>\n",
       "  <tbody>\n",
       "    <tr>\n",
       "      <th>1949-10-10 20:30:00</th>\n",
       "      <td>san marcos</td>\n",
       "      <td>tx</td>\n",
       "      <td>us</td>\n",
       "      <td>cylinder</td>\n",
       "      <td>2700</td>\n",
       "      <td>45 minutes</td>\n",
       "      <td>This event took place in early fall around 194...</td>\n",
       "      <td>4/27/2004</td>\n",
       "      <td>29.883056</td>\n",
       "      <td>-97.941111</td>\n",
       "      <td>1949</td>\n",
       "      <td>2004</td>\n",
       "    </tr>\n",
       "    <tr>\n",
       "      <th>1955-10-10 17:00:00</th>\n",
       "      <td>chester (uk/england)</td>\n",
       "      <td>nu</td>\n",
       "      <td>gb</td>\n",
       "      <td>circle</td>\n",
       "      <td>20</td>\n",
       "      <td>20 seconds</td>\n",
       "      <td>Green/Orange circular disc over Chester&amp;#44 En...</td>\n",
       "      <td>1/21/2008</td>\n",
       "      <td>53.200000</td>\n",
       "      <td>-2.916667</td>\n",
       "      <td>1955</td>\n",
       "      <td>2008</td>\n",
       "    </tr>\n",
       "    <tr>\n",
       "      <th>1956-10-10 21:00:00</th>\n",
       "      <td>edna</td>\n",
       "      <td>tx</td>\n",
       "      <td>us</td>\n",
       "      <td>circle</td>\n",
       "      <td>20</td>\n",
       "      <td>1/2 hour</td>\n",
       "      <td>My older brother and twin sister were leaving ...</td>\n",
       "      <td>1/17/2004</td>\n",
       "      <td>28.978333</td>\n",
       "      <td>-96.645833</td>\n",
       "      <td>1956</td>\n",
       "      <td>2004</td>\n",
       "    </tr>\n",
       "    <tr>\n",
       "      <th>1960-10-10 20:00:00</th>\n",
       "      <td>kaneohe</td>\n",
       "      <td>hi</td>\n",
       "      <td>us</td>\n",
       "      <td>light</td>\n",
       "      <td>900</td>\n",
       "      <td>15 minutes</td>\n",
       "      <td>AS a Marine 1st Lt. flying an FJ4B fighter/att...</td>\n",
       "      <td>1/22/2004</td>\n",
       "      <td>21.418056</td>\n",
       "      <td>-157.803611</td>\n",
       "      <td>1960</td>\n",
       "      <td>2004</td>\n",
       "    </tr>\n",
       "    <tr>\n",
       "      <th>1961-10-10 19:00:00</th>\n",
       "      <td>bristol</td>\n",
       "      <td>tn</td>\n",
       "      <td>us</td>\n",
       "      <td>sphere</td>\n",
       "      <td>300</td>\n",
       "      <td>5 minutes</td>\n",
       "      <td>My father is now 89 my brother 52 the girl wit...</td>\n",
       "      <td>4/27/2007</td>\n",
       "      <td>36.595000</td>\n",
       "      <td>-82.188889</td>\n",
       "      <td>1961</td>\n",
       "      <td>2007</td>\n",
       "    </tr>\n",
       "  </tbody>\n",
       "</table>\n",
       "</div>"
      ],
      "text/plain": [
       "                                     city state country     shape  \\\n",
       "datetime                                                            \n",
       "1949-10-10 20:30:00            san marcos    tx      us  cylinder   \n",
       "1955-10-10 17:00:00  chester (uk/england)    nu      gb    circle   \n",
       "1956-10-10 21:00:00                  edna    tx      us    circle   \n",
       "1960-10-10 20:00:00               kaneohe    hi      us     light   \n",
       "1961-10-10 19:00:00               bristol    tn      us    sphere   \n",
       "\n",
       "                    duration (seconds) duration (hours/min)  \\\n",
       "datetime                                                      \n",
       "1949-10-10 20:30:00               2700           45 minutes   \n",
       "1955-10-10 17:00:00                 20           20 seconds   \n",
       "1956-10-10 21:00:00                 20             1/2 hour   \n",
       "1960-10-10 20:00:00                900           15 minutes   \n",
       "1961-10-10 19:00:00                300            5 minutes   \n",
       "\n",
       "                                                              comments  \\\n",
       "datetime                                                                 \n",
       "1949-10-10 20:30:00  This event took place in early fall around 194...   \n",
       "1955-10-10 17:00:00  Green/Orange circular disc over Chester&#44 En...   \n",
       "1956-10-10 21:00:00  My older brother and twin sister were leaving ...   \n",
       "1960-10-10 20:00:00  AS a Marine 1st Lt. flying an FJ4B fighter/att...   \n",
       "1961-10-10 19:00:00  My father is now 89 my brother 52 the girl wit...   \n",
       "\n",
       "                    date posted   latitude  longitude   sight_year  \\\n",
       "datetime                                                             \n",
       "1949-10-10 20:30:00   4/27/2004  29.883056  -97.941111        1949   \n",
       "1955-10-10 17:00:00   1/21/2008  53.200000   -2.916667        1955   \n",
       "1956-10-10 21:00:00   1/17/2004  28.978333  -96.645833        1956   \n",
       "1960-10-10 20:00:00   1/22/2004  21.418056 -157.803611        1960   \n",
       "1961-10-10 19:00:00   4/27/2007  36.595000  -82.188889        1961   \n",
       "\n",
       "                     report_year  \n",
       "datetime                          \n",
       "1949-10-10 20:30:00         2004  \n",
       "1955-10-10 17:00:00         2008  \n",
       "1956-10-10 21:00:00         2004  \n",
       "1960-10-10 20:00:00         2004  \n",
       "1961-10-10 19:00:00         2007  "
      ]
     },
     "execution_count": 33,
     "metadata": {},
     "output_type": "execute_result"
    }
   ],
   "source": [
    "df1.head()"
   ]
  },
  {
   "cell_type": "code",
   "execution_count": 36,
   "metadata": {},
   "outputs": [],
   "source": [
    "df2 = df1[df1[\"city\"]== \"houston\"]\n",
    "\n",
    "comments_grouped = []\n",
    "for i, row in df2[df2[\"sight_year\"]== 2008].sort_values(by=\"date posted\").iterrows():\n",
    "    comments_grouped.append(row[\"comments\"])"
   ]
  },
  {
   "cell_type": "code",
   "execution_count": 48,
   "metadata": {},
   "outputs": [
    {
     "data": {
      "text/plain": [
       "['Three triangular forms move quickly and in sync before disappearing&#44 planes seemingly chasing it&#33',\n",
       " 'Bright&#44 light is stationery in the sky&#44 then rapidly falls toward horizon',\n",
       " 'Fireball plummets to Earth?',\n",
       " 'one bright light noticed - three light travel together then split to for a perfect triangle.',\n",
       " 'Saw four circular lights flying quickly in formation and then change formation&#44 there was no sound&#44 helipcopters circled around shortly',\n",
       " 'Two star-like objects were seen high in the sky both moving in one direction',\n",
       " 'black slow moving  V shape object over houston s george bush airport',\n",
       " 'Extremely Bright White object&#44 Just like we saw at the beginning of the year&#44 in Houston&#44 when thousands saw it&#33',\n",
       " 'Witnessed white floating object hovering and spinning slowly in the sky in Houston&#44 Texas.',\n",
       " 'I saw a spherical object hovering in the daytime sky that was pinkish in color.',\n",
       " 'three changing color groups of lights hovering over rooftops',\n",
       " 'It took this long to find  wedsite  of the probe I saw in story above.',\n",
       " '05/29/2008 bule light headed SE. around 23:00 - 23:30',\n",
       " 'Tonight I and my little girl saw what appeared to be flying orbs of light over Houston. The direction of each craft was had no apparent',\n",
       " 'Bright White light seen moving across Houston nighttime skies.',\n",
       " 'Light in the sky changing colors&#44 moving very fast&#44 dancing in one spot',\n",
       " 'Advanced flying machines in harris county.',\n",
       " 'They were shaped like geese would fly. We were lying in the back yard watching the stars and it came from south to north. My son said l',\n",
       " 'Daylight object passes by moon and makes random movements.',\n",
       " 'Flashing object at the sky of Houston&#44 July 3&#442008.  ((NUFORC Note:  Sighting of Jupiter in the southeastern sky??  PD))',\n",
       " 'It moved across the sky and all of a sudden it disapeared',\n",
       " 'If I hadn&#39t ran I&#39ve would&#39ve been abducted..again&#33',\n",
       " 'Series of tall columns arorned with white lights and alternating on/off from left to right',\n",
       " 'Flying humanoid in houston?',\n",
       " 'lit circle travling south to north across sky in 10-15 seconds in houston',\n",
       " 'Family has had several encounters over years with possible explanations regarding agenda&#44 bovine blood use&#44 and bdellium collection.',\n",
       " 'Extremely bright&#44 cigar shaped object in the night sky near down town Houston.',\n",
       " 'UFO PROB/FBI/CIA? 27 AUG 08 I was leaving work around 12:25 pm&#44 27 Aug 08&#44 Ellington Fld&#44 Houston&#44 TX-- I was going home to evacuating']"
      ]
     },
     "execution_count": 48,
     "metadata": {},
     "output_type": "execute_result"
    }
   ],
   "source": [
    "comments_grouped"
   ]
  },
  {
   "cell_type": "code",
   "execution_count": 54,
   "metadata": {
    "scrolled": true
   },
   "outputs": [
    {
     "name": "stdout",
     "output_type": "stream",
     "text": [
      "triangular\n",
      "bright\n",
      "light\n",
      "perfect\n",
      "circular\n",
      "like\n",
      "high\n",
      "black\n",
      "slow\n",
      "Bright\n",
      "Witnessed\n",
      "white\n",
      "spherical\n",
      "daytime\n",
      "pinkish\n",
      "long\n",
      "little\n",
      "apparent\n",
      "Bright\n",
      "nighttime\n",
      "fast&#44\n",
      "Advanced\n",
      "random\n",
      "southeastern\n",
      "sudden\n",
      "tall\n",
      "white\n",
      "humanoid\n",
      "several\n",
      "possible\n",
      "agenda&#44\n",
      "bovine\n",
      "bdellium\n"
     ]
    }
   ],
   "source": [
    "for comment in comments_grouped:\n",
    "    doc = nlp(comment)\n",
    "    for token in doc:\n",
    "        if token.tag_ in [\"JJ\",\"JJR\",\"JJS\"]:\n",
    "            print(token.text)"
   ]
  },
  {
   "cell_type": "code",
   "execution_count": null,
   "metadata": {},
   "outputs": [],
   "source": []
  }
 ],
 "metadata": {
  "kernelspec": {
   "display_name": "Python 3",
   "language": "python",
   "name": "python3"
  },
  "language_info": {
   "codemirror_mode": {
    "name": "ipython",
    "version": 3
   },
   "file_extension": ".py",
   "mimetype": "text/x-python",
   "name": "python",
   "nbconvert_exporter": "python",
   "pygments_lexer": "ipython3",
   "version": "3.7.1"
  }
 },
 "nbformat": 4,
 "nbformat_minor": 2
}
